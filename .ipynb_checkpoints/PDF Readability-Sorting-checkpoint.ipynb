{
 "cells": [
  {
   "cell_type": "code",
   "execution_count": 2,
   "id": "2e565e50",
   "metadata": {},
   "outputs": [
    {
     "ename": "SyntaxError",
     "evalue": "invalid syntax (3681823397.py, line 1)",
     "output_type": "error",
     "traceback": [
      "\u001b[1;36m  Cell \u001b[1;32mIn[2], line 1\u001b[1;36m\u001b[0m\n\u001b[1;33m    pip install Wand\u001b[0m\n\u001b[1;37m        ^\u001b[0m\n\u001b[1;31mSyntaxError\u001b[0m\u001b[1;31m:\u001b[0m invalid syntax\n"
     ]
    }
   ],
   "source": [
    "pip install Wand\n",
    "pip install pytesseract\n",
    "pip install PyPDF2"
   ]
  },
  {
   "cell_type": "code",
   "execution_count": 9,
   "id": "7d2a2ad3",
   "metadata": {},
   "outputs": [],
   "source": [
    "import PyPDF2\n",
    "from wand.image import Image\n",
    "import os\n",
    "import re\n",
    "from datetime import datetime"
   ]
  },
  {
   "cell_type": "code",
   "execution_count": 10,
   "id": "add8035a",
   "metadata": {},
   "outputs": [],
   "source": [
    "def pdf_to_images(pdf_path, output_folder):\n",
    "    with Image(filename=pdf_path, resolution=300) as pdf:\n",
    "        pdfimage = pdf.convert('jpeg')\n",
    "        image_pages = len(pdfimage.sequence)\n",
    "        image_paths = []\n",
    "\n",
    "        for page_num in range(image_pages):\n",
    "            image_path = os.path.join(output_folder, f'page_{page_num}.jpg')\n",
    "            image_paths.append(image_path)\n",
    "            with Image(pdfimage.sequence[page_num]) as img:\n",
    "                img.save(filename=image_path)\n",
    "\n",
    "    return image_paths"
   ]
  },
  {
   "cell_type": "code",
   "execution_count": 11,
   "id": "454a4e0a",
   "metadata": {},
   "outputs": [],
   "source": [
    "import pytesseract\n",
    "\n",
    "def extract_text_from_images(image_paths):\n",
    "    page_texts = []\n",
    "    for image_path in image_paths:\n",
    "        text = pytesseract.image_to_string(Image.open(image_path), lang='eng')\n",
    "        page_texts.append(text)\n",
    "    return page_texts"
   ]
  },
  {
   "cell_type": "code",
   "execution_count": 12,
   "id": "785a47bd",
   "metadata": {},
   "outputs": [],
   "source": [
    "def sort_pages_by_date(page_texts):\n",
    "    page_dates = []\n",
    "    date_pattern = r'\\s*(\\w+,\\s*\\d+\\s*\\w+\\s*\\d{4})'\n",
    "\n",
    "    for i, text in enumerate(page_texts):\n",
    "        match = re.search(date_pattern, text)\n",
    "        if match:\n",
    "            date_str = match.group(1)\n",
    "            try:\n",
    "                date = datetime.strptime(date_str, '%a, %d %b %Y').date()\n",
    "                page_dates.append((i, date))\n",
    "            except ValueError:\n",
    "                pass\n",
    "\n",
    "    sorted_pages = sorted(page_dates, key=lambda x: x[1])\n",
    "    return sorted_pages"
   ]
  },
  {
   "cell_type": "code",
   "execution_count": 13,
   "id": "4a1fd6e3",
   "metadata": {},
   "outputs": [],
   "source": [
    "def create_sorted_pdf(sorted_pages, image_paths, output_pdf):\n",
    "    pdf_writer = PyPDF2.PdfFileWriter()\n",
    "\n",
    "    for page_num, _ in sorted_pages:\n",
    "        with open(image_paths[page_num], 'rb') as file:\n",
    "            pdf_writer.addPage(PyPDF2.PdfReader(file).getPage(0))\n",
    "\n",
    "    with open(output_pdf, 'wb') as file:\n",
    "        pdf_writer.write(file)"
   ]
  },
  {
   "cell_type": "code",
   "execution_count": 21,
   "id": "d3fe2681",
   "metadata": {},
   "outputs": [
    {
     "ename": "AttributeError",
     "evalue": "type object 'Image' has no attribute 'open'",
     "output_type": "error",
     "traceback": [
      "\u001b[1;31m---------------------------------------------------------------------------\u001b[0m",
      "\u001b[1;31mAttributeError\u001b[0m                            Traceback (most recent call last)",
      "Cell \u001b[1;32mIn[21], line 13\u001b[0m\n\u001b[0;32m     10\u001b[0m image_paths \u001b[38;5;241m=\u001b[39m pdf_to_images(pdf_path, temp_folder)\n\u001b[0;32m     12\u001b[0m \u001b[38;5;66;03m# Extract text from images using OCR\u001b[39;00m\n\u001b[1;32m---> 13\u001b[0m page_texts \u001b[38;5;241m=\u001b[39m extract_text_from_images(image_paths)\n\u001b[0;32m     15\u001b[0m \u001b[38;5;66;03m# Sort pages based on dates\u001b[39;00m\n\u001b[0;32m     16\u001b[0m sorted_pages \u001b[38;5;241m=\u001b[39m sort_pages_by_date(page_texts)\n",
      "Cell \u001b[1;32mIn[11], line 6\u001b[0m, in \u001b[0;36mextract_text_from_images\u001b[1;34m(image_paths)\u001b[0m\n\u001b[0;32m      4\u001b[0m page_texts \u001b[38;5;241m=\u001b[39m []\n\u001b[0;32m      5\u001b[0m \u001b[38;5;28;01mfor\u001b[39;00m image_path \u001b[38;5;129;01min\u001b[39;00m image_paths:\n\u001b[1;32m----> 6\u001b[0m     text \u001b[38;5;241m=\u001b[39m pytesseract\u001b[38;5;241m.\u001b[39mimage_to_string(Image\u001b[38;5;241m.\u001b[39mopen(image_path), lang\u001b[38;5;241m=\u001b[39m\u001b[38;5;124m'\u001b[39m\u001b[38;5;124meng\u001b[39m\u001b[38;5;124m'\u001b[39m)\n\u001b[0;32m      7\u001b[0m     page_texts\u001b[38;5;241m.\u001b[39mappend(text)\n\u001b[0;32m      8\u001b[0m \u001b[38;5;28;01mreturn\u001b[39;00m page_texts\n",
      "\u001b[1;31mAttributeError\u001b[0m: type object 'Image' has no attribute 'open'"
     ]
    }
   ],
   "source": [
    "if __name__ == \"__main__\":\n",
    "    # Path to your PDF file\n",
    "    pdf_path = 'C:\\\\Users\\\\Lenovo\\\\Desktop\\\\Code Codes\\\\Projects\\\\PDF Date-Sorting-OCR\\\\ilovepdf_merged.pdf'\n",
    "\n",
    "    # Create a temporary folder for storing images\n",
    "    temp_folder = 'temp'\n",
    "    os.makedirs(temp_folder, exist_ok=True)\n",
    "\n",
    "    # Convert PDF pages to images\n",
    "    image_paths = pdf_to_images(pdf_path, temp_folder)\n",
    "\n",
    "    # Extract text from images using OCR\n",
    "    page_texts = extract_text_from_images(image_paths)\n",
    "\n",
    "    # Sort pages based on dates\n",
    "    sorted_pages = sort_pages_by_date(page_texts)\n",
    "\n",
    "    output_pdf = 'C:\\\\Users\\\\Lenovo\\\\Desktop\\\\Code Codes\\\\Projects\\\\sorted_pdf.pdf'\n",
    "    create_sorted_pdf(sorted_pages, image_paths, output_pdf)\n",
    "\n",
    "    # Clean up the temporary folder\n",
    "    for image_path in image_paths:\n",
    "        os.remove(image_path)\n",
    "    os.rmdir(temp_folder) \n",
    "\n",
    "    print(f\"Sorted PDF saved as: {output_pdf}\")"
   ]
  },
  {
   "cell_type": "code",
   "execution_count": null,
   "id": "9707725e",
   "metadata": {},
   "outputs": [],
   "source": []
  }
 ],
 "metadata": {
  "kernelspec": {
   "display_name": "Python 3 (ipykernel)",
   "language": "python",
   "name": "python3"
  },
  "language_info": {
   "codemirror_mode": {
    "name": "ipython",
    "version": 3
   },
   "file_extension": ".py",
   "mimetype": "text/x-python",
   "name": "python",
   "nbconvert_exporter": "python",
   "pygments_lexer": "ipython3",
   "version": "3.11.5"
  }
 },
 "nbformat": 4,
 "nbformat_minor": 5
}
